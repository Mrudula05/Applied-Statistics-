{
  "nbformat": 4,
  "nbformat_minor": 0,
  "metadata": {
    "kernelspec": {
      "display_name": "Python 3",
      "language": "python",
      "name": "python3"
    },
    "language_info": {
      "codemirror_mode": {
        "name": "ipython",
        "version": 3
      },
      "file_extension": ".py",
      "mimetype": "text/x-python",
      "name": "python",
      "nbconvert_exporter": "python",
      "pygments_lexer": "ipython3",
      "version": "3.7.6"
    },
    "colab": {
      "name": "Startup_Ecosystem (1).ipynb",
      "provenance": [],
      "collapsed_sections": [],
      "toc_visible": true
    }
  },
  "cells": [
    {
      "cell_type": "code",
      "metadata": {
        "id": "fDjWlpKuXrTK"
      },
      "source": [
        "#Load necessary Packages\n",
        "import numpy as np\n",
        "import pandas as pd\n",
        "import seaborn as sns  \n",
        "import matplotlib.pyplot as plt  \n",
        "sns.set(color_codes=True) \n",
        "%matplotlib inline "
      ],
      "execution_count": 58,
      "outputs": []
    },
    {
      "cell_type": "code",
      "metadata": {
        "colab": {
          "base_uri": "https://localhost:8080/"
        },
        "id": "1yFB35QcXrTS",
        "outputId": "4c962482-238f-414c-aa7e-f67134465a7c"
      },
      "source": [
        "#Load dataset\n",
        "data = pd.read_csv('DS - Part3 - CompanyX_EU.csv')\n",
        "print(data)"
      ],
      "execution_count": 59,
      "outputs": [
        {
          "output_type": "stream",
          "text": [
            "             Startup             Product  ... OperatingState Funding_in_million\n",
            "0             2600Hz          2600hz.com  ...      Operating                NaN\n",
            "1               3DLT            3dlt.com  ...         Closed            $0.630M\n",
            "2        3DPrinterOS     3dprinteros.com  ...      Operating                NaN\n",
            "3         3Dprintler      3dprintler.com  ...      Operating                $1M\n",
            "4    42 Technologies  42technologies.com  ...      Operating                NaN\n",
            "..               ...                 ...  ...            ...                ...\n",
            "657           Zivity          zivity.com  ...      Operating                $8M\n",
            "658           Zmorph        zmorph3d.com  ...      Operating                $1M\n",
            "659           Zocdoc          zocdoc.com  ...      Operating              $223M\n",
            "660             Zula         zulaapp.com  ...      Operating              $3.4M\n",
            "661           Zumper          zumper.com  ...      Operating             $31.5M\n",
            "\n",
            "[662 rows x 7 columns]\n"
          ],
          "name": "stdout"
        }
      ]
    },
    {
      "cell_type": "markdown",
      "metadata": {
        "id": "d7IbGNuqXrTU"
      },
      "source": [
        "# Data exploration"
      ]
    },
    {
      "cell_type": "code",
      "metadata": {
        "id": "r1RpTIQnXrTU",
        "colab": {
          "base_uri": "https://localhost:8080/"
        },
        "outputId": "92ce5060-3242-437f-b461-5e58f1e6d19a"
      },
      "source": [
        "#1.Check the datatypes of each attribute\n",
        "data.info()\n"
      ],
      "execution_count": 60,
      "outputs": [
        {
          "output_type": "stream",
          "text": [
            "<class 'pandas.core.frame.DataFrame'>\n",
            "RangeIndex: 662 entries, 0 to 661\n",
            "Data columns (total 7 columns):\n",
            " #   Column              Non-Null Count  Dtype \n",
            "---  ------              --------------  ----- \n",
            " 0   Startup             662 non-null    object\n",
            " 1   Product             656 non-null    object\n",
            " 2   Funding             448 non-null    object\n",
            " 3   Event               662 non-null    object\n",
            " 4   Result              662 non-null    object\n",
            " 5   OperatingState      662 non-null    object\n",
            " 6   Funding_in_million  448 non-null    object\n",
            "dtypes: object(7)\n",
            "memory usage: 36.3+ KB\n"
          ],
          "name": "stdout"
        }
      ]
    },
    {
      "cell_type": "code",
      "metadata": {
        "id": "6256RiqLXrTV",
        "colab": {
          "base_uri": "https://localhost:8080/",
          "height": 402
        },
        "outputId": "841f59e0-3683-487c-bb4a-2cae37600506"
      },
      "source": [
        "#2.Check for null values in the attributes.\n",
        "bool_series = pd.isnull(data[\"Funding\"])\n",
        "data[bool_series]"
      ],
      "execution_count": 61,
      "outputs": [
        {
          "output_type": "execute_result",
          "data": {
            "text/html": [
              "<div>\n",
              "<style scoped>\n",
              "    .dataframe tbody tr th:only-of-type {\n",
              "        vertical-align: middle;\n",
              "    }\n",
              "\n",
              "    .dataframe tbody tr th {\n",
              "        vertical-align: top;\n",
              "    }\n",
              "\n",
              "    .dataframe thead th {\n",
              "        text-align: right;\n",
              "    }\n",
              "</style>\n",
              "<table border=\"1\" class=\"dataframe\">\n",
              "  <thead>\n",
              "    <tr style=\"text-align: right;\">\n",
              "      <th></th>\n",
              "      <th>Startup</th>\n",
              "      <th>Product</th>\n",
              "      <th>Funding</th>\n",
              "      <th>Event</th>\n",
              "      <th>Result</th>\n",
              "      <th>OperatingState</th>\n",
              "      <th>Funding_in_million</th>\n",
              "    </tr>\n",
              "  </thead>\n",
              "  <tbody>\n",
              "    <tr>\n",
              "      <th>0</th>\n",
              "      <td>2600Hz</td>\n",
              "      <td>2600hz.com</td>\n",
              "      <td>NaN</td>\n",
              "      <td>Disrupt SF 2013</td>\n",
              "      <td>Contestant</td>\n",
              "      <td>Operating</td>\n",
              "      <td>NaN</td>\n",
              "    </tr>\n",
              "    <tr>\n",
              "      <th>2</th>\n",
              "      <td>3DPrinterOS</td>\n",
              "      <td>3dprinteros.com</td>\n",
              "      <td>NaN</td>\n",
              "      <td>Disrupt SF 2016</td>\n",
              "      <td>Contestant</td>\n",
              "      <td>Operating</td>\n",
              "      <td>NaN</td>\n",
              "    </tr>\n",
              "    <tr>\n",
              "      <th>4</th>\n",
              "      <td>42 Technologies</td>\n",
              "      <td>42technologies.com</td>\n",
              "      <td>NaN</td>\n",
              "      <td>Disrupt NYC 2013</td>\n",
              "      <td>Contestant</td>\n",
              "      <td>Operating</td>\n",
              "      <td>NaN</td>\n",
              "    </tr>\n",
              "    <tr>\n",
              "      <th>7</th>\n",
              "      <td>8020 Media</td>\n",
              "      <td>8020media.com</td>\n",
              "      <td>NaN</td>\n",
              "      <td>TC40 2007</td>\n",
              "      <td>Contestant</td>\n",
              "      <td>Operating</td>\n",
              "      <td>NaN</td>\n",
              "    </tr>\n",
              "    <tr>\n",
              "      <th>8</th>\n",
              "      <td>About Last Night</td>\n",
              "      <td>aboutlastnight.net</td>\n",
              "      <td>NaN</td>\n",
              "      <td>Disrupt NYC 2012</td>\n",
              "      <td>Contestant</td>\n",
              "      <td>Operating</td>\n",
              "      <td>NaN</td>\n",
              "    </tr>\n",
              "    <tr>\n",
              "      <th>...</th>\n",
              "      <td>...</td>\n",
              "      <td>...</td>\n",
              "      <td>...</td>\n",
              "      <td>...</td>\n",
              "      <td>...</td>\n",
              "      <td>...</td>\n",
              "      <td>...</td>\n",
              "    </tr>\n",
              "    <tr>\n",
              "      <th>648</th>\n",
              "      <td>YOOBIC</td>\n",
              "      <td>yoobic.com</td>\n",
              "      <td>NaN</td>\n",
              "      <td>Disrupt London 2015</td>\n",
              "      <td>Finalist</td>\n",
              "      <td>Operating</td>\n",
              "      <td>NaN</td>\n",
              "    </tr>\n",
              "    <tr>\n",
              "      <th>651</th>\n",
              "      <td>YourVersion</td>\n",
              "      <td>yourversion.com</td>\n",
              "      <td>NaN</td>\n",
              "      <td>TC50 2009</td>\n",
              "      <td>Audience choice</td>\n",
              "      <td>Operating</td>\n",
              "      <td>NaN</td>\n",
              "    </tr>\n",
              "    <tr>\n",
              "      <th>652</th>\n",
              "      <td>Yuwan</td>\n",
              "      <td>iyuwan.cn</td>\n",
              "      <td>NaN</td>\n",
              "      <td>Disrupt Beijing 2011</td>\n",
              "      <td>Contestant</td>\n",
              "      <td>Closed</td>\n",
              "      <td>NaN</td>\n",
              "    </tr>\n",
              "    <tr>\n",
              "      <th>653</th>\n",
              "      <td>ZAP!</td>\n",
              "      <td>zapreklam.com/</td>\n",
              "      <td>NaN</td>\n",
              "      <td>Disrupt EU 2014</td>\n",
              "      <td>Audience choice</td>\n",
              "      <td>Operating</td>\n",
              "      <td>NaN</td>\n",
              "    </tr>\n",
              "    <tr>\n",
              "      <th>655</th>\n",
              "      <td>Zello</td>\n",
              "      <td>zello.com</td>\n",
              "      <td>NaN</td>\n",
              "      <td>TC40 2007</td>\n",
              "      <td>Contestant</td>\n",
              "      <td>Operating</td>\n",
              "      <td>NaN</td>\n",
              "    </tr>\n",
              "  </tbody>\n",
              "</table>\n",
              "<p>214 rows × 7 columns</p>\n",
              "</div>"
            ],
            "text/plain": [
              "              Startup             Product  ... OperatingState Funding_in_million\n",
              "0              2600Hz          2600hz.com  ...      Operating                NaN\n",
              "2         3DPrinterOS     3dprinteros.com  ...      Operating                NaN\n",
              "4     42 Technologies  42technologies.com  ...      Operating                NaN\n",
              "7          8020 Media       8020media.com  ...      Operating                NaN\n",
              "8    About Last Night  aboutlastnight.net  ...      Operating                NaN\n",
              "..                ...                 ...  ...            ...                ...\n",
              "648            YOOBIC          yoobic.com  ...      Operating                NaN\n",
              "651       YourVersion     yourversion.com  ...      Operating                NaN\n",
              "652             Yuwan           iyuwan.cn  ...         Closed                NaN\n",
              "653              ZAP!      zapreklam.com/  ...      Operating                NaN\n",
              "655             Zello           zello.com  ...      Operating                NaN\n",
              "\n",
              "[214 rows x 7 columns]"
            ]
          },
          "metadata": {
            "tags": []
          },
          "execution_count": 61
        }
      ]
    },
    {
      "cell_type": "markdown",
      "metadata": {
        "id": "jdN1W2kNXrTV"
      },
      "source": [
        "# Data preprocessing & visualisation:"
      ]
    },
    {
      "cell_type": "code",
      "metadata": {
        "id": "bhbIB60tXrTW",
        "colab": {
          "base_uri": "https://localhost:8080/",
          "height": 402
        },
        "outputId": "a6085ebc-c2a3-4e30-bb4d-77da925c50da"
      },
      "source": [
        "#1.Drop the null values\n",
        "df =  pd.DataFrame(data)\n",
        "df.dropna()\n",
        "\n"
      ],
      "execution_count": 62,
      "outputs": [
        {
          "output_type": "execute_result",
          "data": {
            "text/html": [
              "<div>\n",
              "<style scoped>\n",
              "    .dataframe tbody tr th:only-of-type {\n",
              "        vertical-align: middle;\n",
              "    }\n",
              "\n",
              "    .dataframe tbody tr th {\n",
              "        vertical-align: top;\n",
              "    }\n",
              "\n",
              "    .dataframe thead th {\n",
              "        text-align: right;\n",
              "    }\n",
              "</style>\n",
              "<table border=\"1\" class=\"dataframe\">\n",
              "  <thead>\n",
              "    <tr style=\"text-align: right;\">\n",
              "      <th></th>\n",
              "      <th>Startup</th>\n",
              "      <th>Product</th>\n",
              "      <th>Funding</th>\n",
              "      <th>Event</th>\n",
              "      <th>Result</th>\n",
              "      <th>OperatingState</th>\n",
              "      <th>Funding_in_million</th>\n",
              "    </tr>\n",
              "  </thead>\n",
              "  <tbody>\n",
              "    <tr>\n",
              "      <th>1</th>\n",
              "      <td>3DLT</td>\n",
              "      <td>3dlt.com</td>\n",
              "      <td>$630K</td>\n",
              "      <td>Disrupt NYC 2013</td>\n",
              "      <td>Contestant</td>\n",
              "      <td>Closed</td>\n",
              "      <td>$0.630M</td>\n",
              "    </tr>\n",
              "    <tr>\n",
              "      <th>3</th>\n",
              "      <td>3Dprintler</td>\n",
              "      <td>3dprintler.com</td>\n",
              "      <td>$1M</td>\n",
              "      <td>Disrupt NY 2016</td>\n",
              "      <td>Audience choice</td>\n",
              "      <td>Operating</td>\n",
              "      <td>$1M</td>\n",
              "    </tr>\n",
              "    <tr>\n",
              "      <th>5</th>\n",
              "      <td>5to1</td>\n",
              "      <td>5to1.com</td>\n",
              "      <td>$19.3M</td>\n",
              "      <td>TC50 2009</td>\n",
              "      <td>Contestant</td>\n",
              "      <td>Acquired</td>\n",
              "      <td>$19.3M</td>\n",
              "    </tr>\n",
              "    <tr>\n",
              "      <th>6</th>\n",
              "      <td>8 Securities</td>\n",
              "      <td>8securities.com</td>\n",
              "      <td>$29M</td>\n",
              "      <td>Disrupt Beijing 2011</td>\n",
              "      <td>Finalist</td>\n",
              "      <td>Operating</td>\n",
              "      <td>$29M</td>\n",
              "    </tr>\n",
              "    <tr>\n",
              "      <th>10</th>\n",
              "      <td>AdhereTech</td>\n",
              "      <td>adheretech.com</td>\n",
              "      <td>$1.8M</td>\n",
              "      <td>Hardware Battlefield 2014</td>\n",
              "      <td>Contestant</td>\n",
              "      <td>Operating</td>\n",
              "      <td>$1.8M</td>\n",
              "    </tr>\n",
              "    <tr>\n",
              "      <th>...</th>\n",
              "      <td>...</td>\n",
              "      <td>...</td>\n",
              "      <td>...</td>\n",
              "      <td>...</td>\n",
              "      <td>...</td>\n",
              "      <td>...</td>\n",
              "      <td>...</td>\n",
              "    </tr>\n",
              "    <tr>\n",
              "      <th>657</th>\n",
              "      <td>Zivity</td>\n",
              "      <td>zivity.com</td>\n",
              "      <td>$8M</td>\n",
              "      <td>TC40 2007</td>\n",
              "      <td>Contestant</td>\n",
              "      <td>Operating</td>\n",
              "      <td>$8M</td>\n",
              "    </tr>\n",
              "    <tr>\n",
              "      <th>658</th>\n",
              "      <td>Zmorph</td>\n",
              "      <td>zmorph3d.com</td>\n",
              "      <td>$1M</td>\n",
              "      <td>-</td>\n",
              "      <td>Audience choice</td>\n",
              "      <td>Operating</td>\n",
              "      <td>$1M</td>\n",
              "    </tr>\n",
              "    <tr>\n",
              "      <th>659</th>\n",
              "      <td>Zocdoc</td>\n",
              "      <td>zocdoc.com</td>\n",
              "      <td>$223M</td>\n",
              "      <td>TC40 2007</td>\n",
              "      <td>Contestant</td>\n",
              "      <td>Operating</td>\n",
              "      <td>$223M</td>\n",
              "    </tr>\n",
              "    <tr>\n",
              "      <th>660</th>\n",
              "      <td>Zula</td>\n",
              "      <td>zulaapp.com</td>\n",
              "      <td>$3.4M</td>\n",
              "      <td>Disrupt SF 2013</td>\n",
              "      <td>Audience choice</td>\n",
              "      <td>Operating</td>\n",
              "      <td>$3.4M</td>\n",
              "    </tr>\n",
              "    <tr>\n",
              "      <th>661</th>\n",
              "      <td>Zumper</td>\n",
              "      <td>zumper.com</td>\n",
              "      <td>$31.5M</td>\n",
              "      <td>Disrupt SF 2012</td>\n",
              "      <td>Finalist</td>\n",
              "      <td>Operating</td>\n",
              "      <td>$31.5M</td>\n",
              "    </tr>\n",
              "  </tbody>\n",
              "</table>\n",
              "<p>446 rows × 7 columns</p>\n",
              "</div>"
            ],
            "text/plain": [
              "          Startup          Product  ... OperatingState Funding_in_million\n",
              "1            3DLT         3dlt.com  ...         Closed            $0.630M\n",
              "3      3Dprintler   3dprintler.com  ...      Operating                $1M\n",
              "5            5to1         5to1.com  ...       Acquired             $19.3M\n",
              "6    8 Securities  8securities.com  ...      Operating               $29M\n",
              "10     AdhereTech   adheretech.com  ...      Operating              $1.8M\n",
              "..            ...              ...  ...            ...                ...\n",
              "657        Zivity       zivity.com  ...      Operating                $8M\n",
              "658        Zmorph     zmorph3d.com  ...      Operating                $1M\n",
              "659        Zocdoc       zocdoc.com  ...      Operating              $223M\n",
              "660          Zula      zulaapp.com  ...      Operating              $3.4M\n",
              "661        Zumper       zumper.com  ...      Operating             $31.5M\n",
              "\n",
              "[446 rows x 7 columns]"
            ]
          },
          "metadata": {
            "tags": []
          },
          "execution_count": 62
        }
      ]
    },
    {
      "cell_type": "code",
      "metadata": {
        "scrolled": true,
        "id": "kz8Z7zVNXrTW",
        "colab": {
          "base_uri": "https://localhost:8080/"
        },
        "outputId": "49f6f32e-fe58-4397-e292-517bd5354da0"
      },
      "source": [
        "#2.Convert the ‘Funding’ features to a numerical value\n",
        "df['Funding'] = pd.to_numeric(df['Funding'], errors='coerce')\n",
        "df = df.dropna(subset=['Funding'])\n",
        "df['Funding'] = df['Funding'].astype(int)\n",
        "df['Funding_in_million'] = df['Funding_in_million'].astype(int)\n",
        "df.info()\n"
      ],
      "execution_count": 63,
      "outputs": [
        {
          "output_type": "stream",
          "text": [
            "<class 'pandas.core.frame.DataFrame'>\n",
            "Int64Index: 0 entries\n",
            "Data columns (total 7 columns):\n",
            " #   Column              Non-Null Count  Dtype \n",
            "---  ------              --------------  ----- \n",
            " 0   Startup             0 non-null      object\n",
            " 1   Product             0 non-null      object\n",
            " 2   Funding             0 non-null      int64 \n",
            " 3   Event               0 non-null      object\n",
            " 4   Result              0 non-null      object\n",
            " 5   OperatingState      0 non-null      object\n",
            " 6   Funding_in_million  0 non-null      int64 \n",
            "dtypes: int64(2), object(5)\n",
            "memory usage: 0.0+ bytes\n"
          ],
          "name": "stdout"
        }
      ]
    },
    {
      "cell_type": "markdown",
      "metadata": {
        "id": "gyhsx8Y_l3_8"
      },
      "source": [
        " Codes for boxplot\r\n",
        "\r\n",
        "**code starts here**"
      ]
    },
    {
      "cell_type": "code",
      "metadata": {
        "id": "KHeNBu0fZQ4c",
        "colab": {
          "base_uri": "https://localhost:8080/",
          "height": 402
        },
        "outputId": "bf983dcf-0306-49af-e853-ca86b5fba5d0"
      },
      "source": [
        "data"
      ],
      "execution_count": 64,
      "outputs": [
        {
          "output_type": "execute_result",
          "data": {
            "text/html": [
              "<div>\n",
              "<style scoped>\n",
              "    .dataframe tbody tr th:only-of-type {\n",
              "        vertical-align: middle;\n",
              "    }\n",
              "\n",
              "    .dataframe tbody tr th {\n",
              "        vertical-align: top;\n",
              "    }\n",
              "\n",
              "    .dataframe thead th {\n",
              "        text-align: right;\n",
              "    }\n",
              "</style>\n",
              "<table border=\"1\" class=\"dataframe\">\n",
              "  <thead>\n",
              "    <tr style=\"text-align: right;\">\n",
              "      <th></th>\n",
              "      <th>Startup</th>\n",
              "      <th>Product</th>\n",
              "      <th>Funding</th>\n",
              "      <th>Event</th>\n",
              "      <th>Result</th>\n",
              "      <th>OperatingState</th>\n",
              "      <th>Funding_in_million</th>\n",
              "    </tr>\n",
              "  </thead>\n",
              "  <tbody>\n",
              "    <tr>\n",
              "      <th>0</th>\n",
              "      <td>2600Hz</td>\n",
              "      <td>2600hz.com</td>\n",
              "      <td>NaN</td>\n",
              "      <td>Disrupt SF 2013</td>\n",
              "      <td>Contestant</td>\n",
              "      <td>Operating</td>\n",
              "      <td>NaN</td>\n",
              "    </tr>\n",
              "    <tr>\n",
              "      <th>1</th>\n",
              "      <td>3DLT</td>\n",
              "      <td>3dlt.com</td>\n",
              "      <td>NaN</td>\n",
              "      <td>Disrupt NYC 2013</td>\n",
              "      <td>Contestant</td>\n",
              "      <td>Closed</td>\n",
              "      <td>$0.630M</td>\n",
              "    </tr>\n",
              "    <tr>\n",
              "      <th>2</th>\n",
              "      <td>3DPrinterOS</td>\n",
              "      <td>3dprinteros.com</td>\n",
              "      <td>NaN</td>\n",
              "      <td>Disrupt SF 2016</td>\n",
              "      <td>Contestant</td>\n",
              "      <td>Operating</td>\n",
              "      <td>NaN</td>\n",
              "    </tr>\n",
              "    <tr>\n",
              "      <th>3</th>\n",
              "      <td>3Dprintler</td>\n",
              "      <td>3dprintler.com</td>\n",
              "      <td>NaN</td>\n",
              "      <td>Disrupt NY 2016</td>\n",
              "      <td>Audience choice</td>\n",
              "      <td>Operating</td>\n",
              "      <td>$1M</td>\n",
              "    </tr>\n",
              "    <tr>\n",
              "      <th>4</th>\n",
              "      <td>42 Technologies</td>\n",
              "      <td>42technologies.com</td>\n",
              "      <td>NaN</td>\n",
              "      <td>Disrupt NYC 2013</td>\n",
              "      <td>Contestant</td>\n",
              "      <td>Operating</td>\n",
              "      <td>NaN</td>\n",
              "    </tr>\n",
              "    <tr>\n",
              "      <th>...</th>\n",
              "      <td>...</td>\n",
              "      <td>...</td>\n",
              "      <td>...</td>\n",
              "      <td>...</td>\n",
              "      <td>...</td>\n",
              "      <td>...</td>\n",
              "      <td>...</td>\n",
              "    </tr>\n",
              "    <tr>\n",
              "      <th>657</th>\n",
              "      <td>Zivity</td>\n",
              "      <td>zivity.com</td>\n",
              "      <td>NaN</td>\n",
              "      <td>TC40 2007</td>\n",
              "      <td>Contestant</td>\n",
              "      <td>Operating</td>\n",
              "      <td>$8M</td>\n",
              "    </tr>\n",
              "    <tr>\n",
              "      <th>658</th>\n",
              "      <td>Zmorph</td>\n",
              "      <td>zmorph3d.com</td>\n",
              "      <td>NaN</td>\n",
              "      <td>-</td>\n",
              "      <td>Audience choice</td>\n",
              "      <td>Operating</td>\n",
              "      <td>$1M</td>\n",
              "    </tr>\n",
              "    <tr>\n",
              "      <th>659</th>\n",
              "      <td>Zocdoc</td>\n",
              "      <td>zocdoc.com</td>\n",
              "      <td>NaN</td>\n",
              "      <td>TC40 2007</td>\n",
              "      <td>Contestant</td>\n",
              "      <td>Operating</td>\n",
              "      <td>$223M</td>\n",
              "    </tr>\n",
              "    <tr>\n",
              "      <th>660</th>\n",
              "      <td>Zula</td>\n",
              "      <td>zulaapp.com</td>\n",
              "      <td>NaN</td>\n",
              "      <td>Disrupt SF 2013</td>\n",
              "      <td>Audience choice</td>\n",
              "      <td>Operating</td>\n",
              "      <td>$3.4M</td>\n",
              "    </tr>\n",
              "    <tr>\n",
              "      <th>661</th>\n",
              "      <td>Zumper</td>\n",
              "      <td>zumper.com</td>\n",
              "      <td>NaN</td>\n",
              "      <td>Disrupt SF 2012</td>\n",
              "      <td>Finalist</td>\n",
              "      <td>Operating</td>\n",
              "      <td>$31.5M</td>\n",
              "    </tr>\n",
              "  </tbody>\n",
              "</table>\n",
              "<p>662 rows × 7 columns</p>\n",
              "</div>"
            ],
            "text/plain": [
              "             Startup             Product  ...  OperatingState Funding_in_million\n",
              "0             2600Hz          2600hz.com  ...       Operating                NaN\n",
              "1               3DLT            3dlt.com  ...          Closed            $0.630M\n",
              "2        3DPrinterOS     3dprinteros.com  ...       Operating                NaN\n",
              "3         3Dprintler      3dprintler.com  ...       Operating                $1M\n",
              "4    42 Technologies  42technologies.com  ...       Operating                NaN\n",
              "..               ...                 ...  ...             ...                ...\n",
              "657           Zivity          zivity.com  ...       Operating                $8M\n",
              "658           Zmorph        zmorph3d.com  ...       Operating                $1M\n",
              "659           Zocdoc          zocdoc.com  ...       Operating              $223M\n",
              "660             Zula         zulaapp.com  ...       Operating              $3.4M\n",
              "661           Zumper          zumper.com  ...       Operating             $31.5M\n",
              "\n",
              "[662 rows x 7 columns]"
            ]
          },
          "metadata": {
            "tags": []
          },
          "execution_count": 64
        }
      ]
    },
    {
      "cell_type": "code",
      "metadata": {
        "id": "sTwTpwU_YiwN"
      },
      "source": [
        "data['Funding_in_million'] = data['Funding_in_million'].str.replace('$','')"
      ],
      "execution_count": 65,
      "outputs": []
    },
    {
      "cell_type": "markdown",
      "metadata": {
        "id": "X8MsF51Ss8YE"
      },
      "source": [
        "# New Section"
      ]
    },
    {
      "cell_type": "code",
      "metadata": {
        "id": "EC6uJ9PiZh6u"
      },
      "source": [
        "data['Funding_in_million'] = data['Funding_in_million'].str.replace('M','')"
      ],
      "execution_count": 68,
      "outputs": []
    },
    {
      "cell_type": "code",
      "metadata": {
        "id": "maJi1Xt7aYOE"
      },
      "source": [
        "data['Funding_in_million'] = data['Funding_in_million'].str.replace('K','')"
      ],
      "execution_count": 70,
      "outputs": []
    },
    {
      "cell_type": "code",
      "metadata": {
        "id": "TK0R2b9kZq_m"
      },
      "source": [
        "data.drop( data[data['Funding_in_million'].isna()].index, inplace=True)"
      ],
      "execution_count": 71,
      "outputs": []
    },
    {
      "cell_type": "code",
      "metadata": {
        "id": "bVMV6ZnTZmuh",
        "colab": {
          "base_uri": "https://localhost:8080/"
        },
        "outputId": "21924648-7058-44eb-f7b9-eedacde15e35"
      },
      "source": [
        "data.dtypes"
      ],
      "execution_count": 72,
      "outputs": [
        {
          "output_type": "execute_result",
          "data": {
            "text/plain": [
              "Startup                object\n",
              "Product                object\n",
              "Funding               float64\n",
              "Event                  object\n",
              "Result                 object\n",
              "OperatingState         object\n",
              "Funding_in_million     object\n",
              "dtype: object"
            ]
          },
          "metadata": {
            "tags": []
          },
          "execution_count": 72
        }
      ]
    },
    {
      "cell_type": "code",
      "metadata": {
        "id": "fY7X18PmaNFG"
      },
      "source": [
        "data['Funding_in_million'] = data['Funding_in_million'].astype('float')"
      ],
      "execution_count": 73,
      "outputs": []
    },
    {
      "cell_type": "code",
      "metadata": {
        "id": "NverooegaKqP",
        "colab": {
          "base_uri": "https://localhost:8080/",
          "height": 402
        },
        "outputId": "12778e2d-7beb-4f3d-fdac-d2377fadd314"
      },
      "source": [
        "data"
      ],
      "execution_count": 74,
      "outputs": [
        {
          "output_type": "execute_result",
          "data": {
            "text/html": [
              "<div>\n",
              "<style scoped>\n",
              "    .dataframe tbody tr th:only-of-type {\n",
              "        vertical-align: middle;\n",
              "    }\n",
              "\n",
              "    .dataframe tbody tr th {\n",
              "        vertical-align: top;\n",
              "    }\n",
              "\n",
              "    .dataframe thead th {\n",
              "        text-align: right;\n",
              "    }\n",
              "</style>\n",
              "<table border=\"1\" class=\"dataframe\">\n",
              "  <thead>\n",
              "    <tr style=\"text-align: right;\">\n",
              "      <th></th>\n",
              "      <th>Startup</th>\n",
              "      <th>Product</th>\n",
              "      <th>Funding</th>\n",
              "      <th>Event</th>\n",
              "      <th>Result</th>\n",
              "      <th>OperatingState</th>\n",
              "      <th>Funding_in_million</th>\n",
              "    </tr>\n",
              "  </thead>\n",
              "  <tbody>\n",
              "    <tr>\n",
              "      <th>1</th>\n",
              "      <td>3DLT</td>\n",
              "      <td>3dlt.com</td>\n",
              "      <td>NaN</td>\n",
              "      <td>Disrupt NYC 2013</td>\n",
              "      <td>Contestant</td>\n",
              "      <td>Closed</td>\n",
              "      <td>0.63</td>\n",
              "    </tr>\n",
              "    <tr>\n",
              "      <th>3</th>\n",
              "      <td>3Dprintler</td>\n",
              "      <td>3dprintler.com</td>\n",
              "      <td>NaN</td>\n",
              "      <td>Disrupt NY 2016</td>\n",
              "      <td>Audience choice</td>\n",
              "      <td>Operating</td>\n",
              "      <td>1.00</td>\n",
              "    </tr>\n",
              "    <tr>\n",
              "      <th>5</th>\n",
              "      <td>5to1</td>\n",
              "      <td>5to1.com</td>\n",
              "      <td>NaN</td>\n",
              "      <td>TC50 2009</td>\n",
              "      <td>Contestant</td>\n",
              "      <td>Acquired</td>\n",
              "      <td>19.30</td>\n",
              "    </tr>\n",
              "    <tr>\n",
              "      <th>6</th>\n",
              "      <td>8 Securities</td>\n",
              "      <td>8securities.com</td>\n",
              "      <td>NaN</td>\n",
              "      <td>Disrupt Beijing 2011</td>\n",
              "      <td>Finalist</td>\n",
              "      <td>Operating</td>\n",
              "      <td>29.00</td>\n",
              "    </tr>\n",
              "    <tr>\n",
              "      <th>10</th>\n",
              "      <td>AdhereTech</td>\n",
              "      <td>adheretech.com</td>\n",
              "      <td>NaN</td>\n",
              "      <td>Hardware Battlefield 2014</td>\n",
              "      <td>Contestant</td>\n",
              "      <td>Operating</td>\n",
              "      <td>1.80</td>\n",
              "    </tr>\n",
              "    <tr>\n",
              "      <th>...</th>\n",
              "      <td>...</td>\n",
              "      <td>...</td>\n",
              "      <td>...</td>\n",
              "      <td>...</td>\n",
              "      <td>...</td>\n",
              "      <td>...</td>\n",
              "      <td>...</td>\n",
              "    </tr>\n",
              "    <tr>\n",
              "      <th>657</th>\n",
              "      <td>Zivity</td>\n",
              "      <td>zivity.com</td>\n",
              "      <td>NaN</td>\n",
              "      <td>TC40 2007</td>\n",
              "      <td>Contestant</td>\n",
              "      <td>Operating</td>\n",
              "      <td>8.00</td>\n",
              "    </tr>\n",
              "    <tr>\n",
              "      <th>658</th>\n",
              "      <td>Zmorph</td>\n",
              "      <td>zmorph3d.com</td>\n",
              "      <td>NaN</td>\n",
              "      <td>-</td>\n",
              "      <td>Audience choice</td>\n",
              "      <td>Operating</td>\n",
              "      <td>1.00</td>\n",
              "    </tr>\n",
              "    <tr>\n",
              "      <th>659</th>\n",
              "      <td>Zocdoc</td>\n",
              "      <td>zocdoc.com</td>\n",
              "      <td>NaN</td>\n",
              "      <td>TC40 2007</td>\n",
              "      <td>Contestant</td>\n",
              "      <td>Operating</td>\n",
              "      <td>223.00</td>\n",
              "    </tr>\n",
              "    <tr>\n",
              "      <th>660</th>\n",
              "      <td>Zula</td>\n",
              "      <td>zulaapp.com</td>\n",
              "      <td>NaN</td>\n",
              "      <td>Disrupt SF 2013</td>\n",
              "      <td>Audience choice</td>\n",
              "      <td>Operating</td>\n",
              "      <td>3.40</td>\n",
              "    </tr>\n",
              "    <tr>\n",
              "      <th>661</th>\n",
              "      <td>Zumper</td>\n",
              "      <td>zumper.com</td>\n",
              "      <td>NaN</td>\n",
              "      <td>Disrupt SF 2012</td>\n",
              "      <td>Finalist</td>\n",
              "      <td>Operating</td>\n",
              "      <td>31.50</td>\n",
              "    </tr>\n",
              "  </tbody>\n",
              "</table>\n",
              "<p>448 rows × 7 columns</p>\n",
              "</div>"
            ],
            "text/plain": [
              "          Startup          Product  ...  OperatingState Funding_in_million\n",
              "1            3DLT         3dlt.com  ...          Closed               0.63\n",
              "3      3Dprintler   3dprintler.com  ...       Operating               1.00\n",
              "5            5to1         5to1.com  ...        Acquired              19.30\n",
              "6    8 Securities  8securities.com  ...       Operating              29.00\n",
              "10     AdhereTech   adheretech.com  ...       Operating               1.80\n",
              "..            ...              ...  ...             ...                ...\n",
              "657        Zivity       zivity.com  ...       Operating               8.00\n",
              "658        Zmorph     zmorph3d.com  ...       Operating               1.00\n",
              "659        Zocdoc       zocdoc.com  ...       Operating             223.00\n",
              "660          Zula      zulaapp.com  ...       Operating               3.40\n",
              "661        Zumper       zumper.com  ...       Operating              31.50\n",
              "\n",
              "[448 rows x 7 columns]"
            ]
          },
          "metadata": {
            "tags": []
          },
          "execution_count": 74
        }
      ]
    },
    {
      "cell_type": "code",
      "metadata": {
        "id": "qrwsUyBhXrTX",
        "colab": {
          "base_uri": "https://localhost:8080/",
          "height": 389
        },
        "outputId": "9c637876-a892-486e-f890-663ddbdd7d81"
      },
      "source": [
        "#3.Plot box plot for funds in million\r\n",
        "sns.boxplot('Funding_in_million', data=data,)"
      ],
      "execution_count": 75,
      "outputs": [
        {
          "output_type": "stream",
          "text": [
            "/usr/local/lib/python3.6/dist-packages/seaborn/_decorators.py:43: FutureWarning:\n",
            "\n",
            "Pass the following variable as a keyword arg: x. From version 0.12, the only valid positional argument will be `data`, and passing other arguments without an explicit keyword will result in an error or misinterpretation.\n",
            "\n"
          ],
          "name": "stderr"
        },
        {
          "output_type": "execute_result",
          "data": {
            "text/plain": [
              "<matplotlib.axes._subplots.AxesSubplot at 0x7f413b943278>"
            ]
          },
          "metadata": {
            "tags": []
          },
          "execution_count": 75
        },
        {
          "output_type": "display_data",
          "data": {
            "image/png": "[encoded data removed]",
            "text/plain": [
              "<Figure size 432x288 with 1 Axes>"
            ]
          },
          "metadata": {
            "tags": [],
            "needs_background": "light"
          }
        }
      ]
    },
    {
      "cell_type": "code",
      "metadata": {
        "id": "c3yD4aagcGOR",
        "colab": {
          "base_uri": "https://localhost:8080/",
          "height": 402
        },
        "outputId": "5113ed90-fefc-44d2-bddc-343627923357"
      },
      "source": [
        "plt.boxplot(data['Funding_in_million'])"
      ],
      "execution_count": 76,
      "outputs": [
        {
          "output_type": "execute_result",
          "data": {
            "text/plain": [
              "{'boxes': [<matplotlib.lines.Line2D at 0x7f413b0cc8d0>],\n",
              " 'caps': [<matplotlib.lines.Line2D at 0x7f413b0573c8>,\n",
              "  <matplotlib.lines.Line2D at 0x7f413b057780>],\n",
              " 'fliers': [<matplotlib.lines.Line2D at 0x7f413b057ef0>],\n",
              " 'means': [],\n",
              " 'medians': [<matplotlib.lines.Line2D at 0x7f413b057b38>],\n",
              " 'whiskers': [<matplotlib.lines.Line2D at 0x7f413b0ccc18>,\n",
              "  <matplotlib.lines.Line2D at 0x7f413b0ccfd0>]}"
            ]
          },
          "metadata": {
            "tags": []
          },
          "execution_count": 76
        },
        {
          "output_type": "display_data",
          "data": {
            "image/png": "[encoded data removed]",
            "text/plain": [
              "<Figure size 432x288 with 1 Axes>"
            ]
          },
          "metadata": {
            "tags": [],
            "needs_background": "light"
          }
        }
      ]
    },
    {
      "cell_type": "code",
      "metadata": {
        "id": "NDWUoWHGgsoR"
      },
      "source": [
        "b = plt.boxplot(data['Funding_in_million'])\r\n"
      ],
      "execution_count": null,
      "outputs": []
    },
    {
      "cell_type": "markdown",
      "metadata": {
        "id": "n7Q73M-esES0"
      },
      "source": [
        "# New Section"
      ]
    },
    {
      "cell_type": "code",
      "metadata": {
        "id": "p51z5DXUhQYj",
        "colab": {
          "base_uri": "https://localhost:8080/"
        },
        "outputId": "67955cf5-e05e-4a97-f3c8-a224564c68dd"
      },
      "source": [
        "[item.get_ydata() for item in b['boxes']]"
      ],
      "execution_count": 77,
      "outputs": [
        {
          "output_type": "execute_result",
          "data": {
            "text/plain": [
              "[array([ 0.8,  0.8, 10. , 10. ,  0.8])]"
            ]
          },
          "metadata": {
            "tags": []
          },
          "execution_count": 77
        }
      ]
    },
    {
      "cell_type": "code",
      "metadata": {
        "id": "H_61eHxLkXYZ",
        "colab": {
          "base_uri": "https://localhost:8080/"
        },
        "outputId": "50d36c64-8b5a-4e14-95b6-201a9f6df725"
      },
      "source": [
        "median = np.median(data['Funding_in_million'])\r\n",
        "upper_quartile = np.percentile(data['Funding_in_million'], 75)\r\n",
        "lower_quartile = np.percentile(data['Funding_in_million'], 25)\r\n",
        "print(median, upper_quartile, lower_quartile)"
      ],
      "execution_count": 78,
      "outputs": [
        {
          "output_type": "stream",
          "text": [
            "2.3499999999999996 10.0 0.8\n"
          ],
          "name": "stdout"
        }
      ]
    },
    {
      "cell_type": "code",
      "metadata": {
        "id": "VlxubVZYlJmL"
      },
      "source": [
        "import plotly.express as px \r\n"
      ],
      "execution_count": 79,
      "outputs": []
    },
    {
      "cell_type": "code",
      "metadata": {
        "id": "LZbudKc0lLCH",
        "colab": {
          "base_uri": "https://localhost:8080/",
          "height": 542
        },
        "outputId": "399dffa6-37fd-401f-f95e-3dadb9805fbf"
      },
      "source": [
        "fig = px.box(data, x = \"Funding_in_million\", points=\"outliers\") \r\n",
        "fig.show()"
      ],
      "execution_count": 80,
      "outputs": [
        {
          "output_type": "display_data",
          "data": {
            "text/html": [
              "<html>\n",
              "<head><meta charset=\"utf-8\" /></head>\n",
              "<body>\n",
              "    <div>\n",
              "            <script src=\"https://cdnjs.cloudflare.com/ajax/libs/mathjax/2.7.5/MathJax.js?config=TeX-AMS-MML_SVG\"></script><script type=\"text/javascript\">if (window.MathJax) {MathJax.Hub.Config({SVG: {font: \"STIX-Web\"}});}</script>\n",
              "                <script type=\"text/javascript\">window.PlotlyConfig = {MathJaxConfig: 'local'};</script>\n",
              "        <script src=\"https://cdn.plot.ly/plotly-latest.min.js\"></script>    \n",
              "            <div id=\"b7eb52fe-800e-4fb4-bd91-2a476e4e8133\" class=\"plotly-graph-div\" style=\"height:525px; width:100%;\"></div>\n",
              "            <script type=\"text/javascript\">\n",
              "                \n",
              "                    window.PLOTLYENV=window.PLOTLYENV || {};\n",
              "                    \n",
              "                if (document.getElementById(\"b7eb52fe-800e-4fb4-bd91-2a476e4e8133\")) {\n",
              "                    Plotly.newPlot(\n",
              "                        'b7eb52fe-800e-4fb4-bd91-2a476e4e8133',\n",
              "                        [{\"alignmentgroup\": \"True\", \"boxpoints\": \"outliers\", \"hoverlabel\": {\"namelength\": 0}, \"hovertemplate\": \"Funding_in_million=%{x}\", \"legendgroup\": \"\", \"marker\": {\"color\": \"#636efa\"}, \"name\": \"\", \"notched\": false, \"offsetgroup\": \"\", \"orientation\": \"v\", \"showlegend\": false, \"type\": \"box\", \"x\": [0.63, 1.0, 19.3, 29.0, 1.8, 1.0, 1.0, 0.75, 0.179, 11.6, 0.9292, 12.2, 1.9, 4.0, 3.0, 225.0, 24.0, 0.746, 0.6, 7.1, 4.5, 50.9, 8.3, 4.0, 12.3, 1.0, 0.19, 40.0, 0.52, 2.9, 0.32, 1.7, 0.2, 205.0, 16.5, 2.8, 0.125, 350.0, 20.8, 0.675, 6.5, 2.0, 0.118, 4.0, 20.5, 7.2, 2.3, 0.212, 7.0, 8.1, 8.5, 0.325, 0.2, 0.15, 5.0, 0.6, 8.8, 0.12, 2.0, 2.3, 3.1, 5.5, 4.5, 2.2, 0.496, 1.4, 0.35, 32.5, 19.0, 0.75, 0.475, 182.1, 6.7, 0.848, 2.0, 1.3, 2.0, 12.0, 2.6, 0.4115, 0.925, 8.1, 35.4, 3.0, 38.0, 37.1, 6.8, 72.0, 64.0, 12.5, 0.9, 0.1, 7.3, 0.1, 1.3, 0.983, 9.7, 4.0, 5.4, 0.16, 0.3, 0.2, 1700.0, 10.1, 0.485, 8.0, 3.0, 3.0, 4.3, 0.12, 10.0, 34.6, 1.0, 16.3, 5.0, 2.4, 0.65, 35.5, 15.4, 18.2, 0.1, 30.1, 26.0, 1.2, 2.3, 0.7906, 0.6, 66.0, 6.5, 28.3, 6.4, 8.2, 1.7, 0.5, 10.0, 0.3105, 11.3, 3.8, 700.0, 12.5, 103.0, 1.2, 1.9, 0.3346, 25.9, 0.7559, 36.5, 1.0, 1.4, 1.7, 14.2, 0.5, 0.1915, 44.7, 0.5661, 0.3, 6.3, 24.2, 10.7, 1.3, 22.0, 12.0, 5.0, 4.5, 1.2, 7.2, 12.5, 1.1, 3.2, 0.15, 0.195, 1.0, 16.3, 14.1, 0.5, 18.2, 0.5, 0.745, 2.0, 0.457, 3.0, 0.355, 0.6963, 122.4, 0.4216, 1.0, 1.3, 34.9, 1.2, 67.8, 3.8, 11.7, 166.1, 10.0, 1.6, 1.6, 4.4, 1.3, 1.9, 1.8, 1.3, 3.0, 0.717, 5.8, 4.1, 42.1, 2.0, 1.0, 69.0, 0.5, 10.6, 2.2, 65.1, 1.3, 2.0, 2.0, 0.875, 6.7, 2.3, 0.25, 0.35, 25.1, 0.635, 3.2, 0.3, 9.2, 1.1, 0.8, 7.3, 9.4, 31.8, 3.0, 0.9, 2.6, 4.0, 1.2, 3.3, 9.5, 3.1, 3.5, 1.2, 0.5, 0.275, 3.5, 0.1, 1.9, 2.2, 2.8, 13.2, 275.0, 1.4, 10.7, 0.1, 3.3, 1.3, 0.5, 1.2, 12.8, 5.3, 1.0, 37.0, 3.9, 0.6514, 38.5, 25.5, 3.8, 0.892, 24.0, 3.4, 7.2, 1.2, 2.2, 1.5, 0.52, 0.795, 0.156, 0.5, 4.8, 0.755, 0.525, 18.5, 3.5, 0.5, 1.1, 2.2, 1.5, 278.0, 20.5, 0.5, 3.6, 1.4, 24.0, 1.7, 2.8, 63.0, 2.2, 0.12, 0.948, 0.15, 10.5, 3.5, 3.3, 0.2, 7.4, 6.0, 0.203, 0.1, 0.765, 0.145, 0.2, 7.0, 5.0, 25.0, 1.2, 0.956, 0.25, 3.0, 7.7, 1.5, 160.0, 0.8, 1.4, 0.59, 2.0, 6.0, 3.4, 0.1, 0.8554, 0.165, 0.15, 16.2, 18.0, 3.8, 4.1, 1.1, 1.4, 0.35, 6.0, 1.5, 0.44, 0.6844, 0.1298, 0.118, 0.7, 3.5, 0.2, 2.8, 18.0, 1.0, 2.3, 2.6, 0.482, 1.0, 0.2, 5.0, 2.3, 1.3, 0.6, 2.0, 2.1, 0.12, 0.23, 1.5, 2.4, 0.6, 5.8, 40.0, 1.8, 0.5, 0.485, 0.863, 15.6, 47.4, 0.3238, 0.6, 5.1, 24.5, 1.0, 0.35, 0.3, 4.7, 0.65, 5.3, 0.532, 4.2, 6.3, 1.5, 1.9, 0.28, 9.8, 16.0, 25.0, 0.93, 0.88, 10.3, 13.1, 5.3, 332.4, 7.8, 14.5, 3.0, 1.0, 35.0, 0.5, 2.0, 168.8, 2.8, 1.6, 1.1, 0.8, 0.8302, 28.0, 12.0, 1.0, 6.5, 0.267, 4.5, 2.3, 0.55, 7.1, 30.8, 10.0, 0.275, 0.857, 1.4, 2.1, 1.0, 2.5, 2.0, 50.0, 12.2, 17.4, 15.8, 28.0, 41.8, 142.0, 10.0, 900.0, 117.8, 26.0, 28.0, 62.1, 583.6, 8.0, 1.0, 223.0, 3.4, 31.5], \"x0\": \" \", \"xaxis\": \"x\", \"y0\": \" \", \"yaxis\": \"y\"}],\n",
              "                        {\"boxmode\": \"group\", \"legend\": {\"tracegroupgap\": 0}, \"margin\": {\"t\": 60}, \"template\": {\"data\": {\"bar\": [{\"error_x\": {\"color\": \"#2a3f5f\"}, \"error_y\": {\"color\": \"#2a3f5f\"}, \"marker\": {\"line\": {\"color\": \"#E5ECF6\", \"width\": 0.5}}, \"type\": \"bar\"}], \"barpolar\": [{\"marker\": {\"line\": {\"color\": \"#E5ECF6\", \"width\": 0.5}}, \"type\": \"barpolar\"}], \"carpet\": [{\"aaxis\": {\"endlinecolor\": \"#2a3f5f\", \"gridcolor\": \"white\", \"linecolor\": \"white\", \"minorgridcolor\": \"white\", \"startlinecolor\": \"#2a3f5f\"}, \"baxis\": {\"endlinecolor\": \"#2a3f5f\", \"gridcolor\": \"white\", \"linecolor\": \"white\", \"minorgridcolor\": \"white\", \"startlinecolor\": \"#2a3f5f\"}, \"type\": \"carpet\"}], \"choropleth\": [{\"colorbar\": {\"outlinewidth\": 0, \"ticks\": \"\"}, \"type\": \"choropleth\"}], \"contour\": [{\"colorbar\": {\"outlinewidth\": 0, \"ticks\": \"\"}, \"colorscale\": [[0.0, \"#0d0887\"], [0.1111111111111111, \"#46039f\"], [0.2222222222222222, \"#7201a8\"], [0.3333333333333333, \"#9c179e\"], [0.4444444444444444, \"#bd3786\"], [0.5555555555555556, \"#d8576b\"], [0.6666666666666666, \"#ed7953\"], [0.7777777777777778, \"#fb9f3a\"], [0.8888888888888888, \"#fdca26\"], [1.0, \"#f0f921\"]], \"type\": \"contour\"}], \"contourcarpet\": [{\"colorbar\": {\"outlinewidth\": 0, \"ticks\": \"\"}, \"type\": \"contourcarpet\"}], \"heatmap\": [{\"colorbar\": {\"outlinewidth\": 0, \"ticks\": \"\"}, \"colorscale\": [[0.0, \"#0d0887\"], [0.1111111111111111, \"#46039f\"], [0.2222222222222222, \"#7201a8\"], [0.3333333333333333, \"#9c179e\"], [0.4444444444444444, \"#bd3786\"], [0.5555555555555556, \"#d8576b\"], [0.6666666666666666, \"#ed7953\"], [0.7777777777777778, \"#fb9f3a\"], [0.8888888888888888, \"#fdca26\"], [1.0, \"#f0f921\"]], \"type\": \"heatmap\"}], \"heatmapgl\": [{\"colorbar\": {\"outlinewidth\": 0, \"ticks\": \"\"}, \"colorscale\": [[0.0, \"#0d0887\"], [0.1111111111111111, \"#46039f\"], [0.2222222222222222, \"#7201a8\"], [0.3333333333333333, \"#9c179e\"], [0.4444444444444444, \"#bd3786\"], [0.5555555555555556, \"#d8576b\"], [0.6666666666666666, \"#ed7953\"], [0.7777777777777778, \"#fb9f3a\"], [0.8888888888888888, \"#fdca26\"], [1.0, \"#f0f921\"]], \"type\": \"heatmapgl\"}], \"histogram\": [{\"marker\": {\"colorbar\": {\"outlinewidth\": 0, \"ticks\": \"\"}}, \"type\": \"histogram\"}], \"histogram2d\": [{\"colorbar\": {\"outlinewidth\": 0, \"ticks\": \"\"}, \"colorscale\": [[0.0, \"#0d0887\"], [0.1111111111111111, \"#46039f\"], [0.2222222222222222, \"#7201a8\"], [0.3333333333333333, \"#9c179e\"], [0.4444444444444444, \"#bd3786\"], [0.5555555555555556, \"#d8576b\"], [0.6666666666666666, \"#ed7953\"], [0.7777777777777778, \"#fb9f3a\"], [0.8888888888888888, \"#fdca26\"], [1.0, \"#f0f921\"]], \"type\": \"histogram2d\"}], \"histogram2dcontour\": [{\"colorbar\": {\"outlinewidth\": 0, \"ticks\": \"\"}, \"colorscale\": [[0.0, \"#0d0887\"], [0.1111111111111111, \"#46039f\"], [0.2222222222222222, \"#7201a8\"], [0.3333333333333333, \"#9c179e\"], [0.4444444444444444, \"#bd3786\"], [0.5555555555555556, \"#d8576b\"], [0.6666666666666666, \"#ed7953\"], [0.7777777777777778, \"#fb9f3a\"], [0.8888888888888888, \"#fdca26\"], [1.0, \"#f0f921\"]], \"type\": \"histogram2dcontour\"}], \"mesh3d\": [{\"colorbar\": {\"outlinewidth\": 0, \"ticks\": \"\"}, \"type\": \"mesh3d\"}], \"parcoords\": [{\"line\": {\"colorbar\": {\"outlinewidth\": 0, \"ticks\": \"\"}}, \"type\": \"parcoords\"}], \"pie\": [{\"automargin\": true, \"type\": \"pie\"}], \"scatter\": [{\"marker\": {\"colorbar\": {\"outlinewidth\": 0, \"ticks\": \"\"}}, \"type\": \"scatter\"}], \"scatter3d\": [{\"line\": {\"colorbar\": {\"outlinewidth\": 0, \"ticks\": \"\"}}, \"marker\": {\"colorbar\": {\"outlinewidth\": 0, \"ticks\": \"\"}}, \"type\": \"scatter3d\"}], \"scattercarpet\": [{\"marker\": {\"colorbar\": {\"outlinewidth\": 0, \"ticks\": \"\"}}, \"type\": \"scattercarpet\"}], \"scattergeo\": [{\"marker\": {\"colorbar\": {\"outlinewidth\": 0, \"ticks\": \"\"}}, \"type\": \"scattergeo\"}], \"scattergl\": [{\"marker\": {\"colorbar\": {\"outlinewidth\": 0, \"ticks\": \"\"}}, \"type\": \"scattergl\"}], \"scattermapbox\": [{\"marker\": {\"colorbar\": {\"outlinewidth\": 0, \"ticks\": \"\"}}, \"type\": \"scattermapbox\"}], \"scatterpolar\": [{\"marker\": {\"colorbar\": {\"outlinewidth\": 0, \"ticks\": \"\"}}, \"type\": \"scatterpolar\"}], \"scatterpolargl\": [{\"marker\": {\"colorbar\": {\"outlinewidth\": 0, \"ticks\": \"\"}}, \"type\": \"scatterpolargl\"}], \"scatterternary\": [{\"marker\": {\"colorbar\": {\"outlinewidth\": 0, \"ticks\": \"\"}}, \"type\": \"scatterternary\"}], \"surface\": [{\"colorbar\": {\"outlinewidth\": 0, \"ticks\": \"\"}, \"colorscale\": [[0.0, \"#0d0887\"], [0.1111111111111111, \"#46039f\"], [0.2222222222222222, \"#7201a8\"], [0.3333333333333333, \"#9c179e\"], [0.4444444444444444, \"#bd3786\"], [0.5555555555555556, \"#d8576b\"], [0.6666666666666666, \"#ed7953\"], [0.7777777777777778, \"#fb9f3a\"], [0.8888888888888888, \"#fdca26\"], [1.0, \"#f0f921\"]], \"type\": \"surface\"}], \"table\": [{\"cells\": {\"fill\": {\"color\": \"#EBF0F8\"}, \"line\": {\"color\": \"white\"}}, \"header\": {\"fill\": {\"color\": \"#C8D4E3\"}, \"line\": {\"color\": \"white\"}}, \"type\": \"table\"}]}, \"layout\": {\"annotationdefaults\": {\"arrowcolor\": \"#2a3f5f\", \"arrowhead\": 0, \"arrowwidth\": 1}, \"coloraxis\": {\"colorbar\": {\"outlinewidth\": 0, \"ticks\": \"\"}}, \"colorscale\": {\"diverging\": [[0, \"#8e0152\"], [0.1, \"#c51b7d\"], [0.2, \"#de77ae\"], [0.3, \"#f1b6da\"], [0.4, \"#fde0ef\"], [0.5, \"#f7f7f7\"], [0.6, \"#e6f5d0\"], [0.7, \"#b8e186\"], [0.8, \"#7fbc41\"], [0.9, \"#4d9221\"], [1, \"#276419\"]], \"sequential\": [[0.0, \"#0d0887\"], [0.1111111111111111, \"#46039f\"], [0.2222222222222222, \"#7201a8\"], [0.3333333333333333, \"#9c179e\"], [0.4444444444444444, \"#bd3786\"], [0.5555555555555556, \"#d8576b\"], [0.6666666666666666, \"#ed7953\"], [0.7777777777777778, \"#fb9f3a\"], [0.8888888888888888, \"#fdca26\"], [1.0, \"#f0f921\"]], \"sequentialminus\": [[0.0, \"#0d0887\"], [0.1111111111111111, \"#46039f\"], [0.2222222222222222, \"#7201a8\"], [0.3333333333333333, \"#9c179e\"], [0.4444444444444444, \"#bd3786\"], [0.5555555555555556, \"#d8576b\"], [0.6666666666666666, \"#ed7953\"], [0.7777777777777778, \"#fb9f3a\"], [0.8888888888888888, \"#fdca26\"], [1.0, \"#f0f921\"]]}, \"colorway\": [\"#636efa\", \"#EF553B\", \"#00cc96\", \"#ab63fa\", \"#FFA15A\", \"#19d3f3\", \"#FF6692\", \"#B6E880\", \"#FF97FF\", \"#FECB52\"], \"font\": {\"color\": \"#2a3f5f\"}, \"geo\": {\"bgcolor\": \"white\", \"lakecolor\": \"white\", \"landcolor\": \"#E5ECF6\", \"showlakes\": true, \"showland\": true, \"subunitcolor\": \"white\"}, \"hoverlabel\": {\"align\": \"left\"}, \"hovermode\": \"closest\", \"mapbox\": {\"style\": \"light\"}, \"paper_bgcolor\": \"white\", \"plot_bgcolor\": \"#E5ECF6\", \"polar\": {\"angularaxis\": {\"gridcolor\": \"white\", \"linecolor\": \"white\", \"ticks\": \"\"}, \"bgcolor\": \"#E5ECF6\", \"radialaxis\": {\"gridcolor\": \"white\", \"linecolor\": \"white\", \"ticks\": \"\"}}, \"scene\": {\"xaxis\": {\"backgroundcolor\": \"#E5ECF6\", \"gridcolor\": \"white\", \"gridwidth\": 2, \"linecolor\": \"white\", \"showbackground\": true, \"ticks\": \"\", \"zerolinecolor\": \"white\"}, \"yaxis\": {\"backgroundcolor\": \"#E5ECF6\", \"gridcolor\": \"white\", \"gridwidth\": 2, \"linecolor\": \"white\", \"showbackground\": true, \"ticks\": \"\", \"zerolinecolor\": \"white\"}, \"zaxis\": {\"backgroundcolor\": \"#E5ECF6\", \"gridcolor\": \"white\", \"gridwidth\": 2, \"linecolor\": \"white\", \"showbackground\": true, \"ticks\": \"\", \"zerolinecolor\": \"white\"}}, \"shapedefaults\": {\"line\": {\"color\": \"#2a3f5f\"}}, \"ternary\": {\"aaxis\": {\"gridcolor\": \"white\", \"linecolor\": \"white\", \"ticks\": \"\"}, \"baxis\": {\"gridcolor\": \"white\", \"linecolor\": \"white\", \"ticks\": \"\"}, \"bgcolor\": \"#E5ECF6\", \"caxis\": {\"gridcolor\": \"white\", \"linecolor\": \"white\", \"ticks\": \"\"}}, \"title\": {\"x\": 0.05}, \"xaxis\": {\"automargin\": true, \"gridcolor\": \"white\", \"linecolor\": \"white\", \"ticks\": \"\", \"title\": {\"standoff\": 15}, \"zerolinecolor\": \"white\", \"zerolinewidth\": 2}, \"yaxis\": {\"automargin\": true, \"gridcolor\": \"white\", \"linecolor\": \"white\", \"ticks\": \"\", \"title\": {\"standoff\": 15}, \"zerolinecolor\": \"white\", \"zerolinewidth\": 2}}}, \"xaxis\": {\"anchor\": \"y\", \"domain\": [0.0, 1.0], \"title\": {\"text\": \"Funding_in_million\"}}, \"yaxis\": {\"anchor\": \"x\", \"domain\": [0.0, 1.0]}},\n",
              "                        {\"responsive\": true}\n",
              "                    ).then(function(){\n",
              "                            \n",
              "var gd = document.getElementById('b7eb52fe-800e-4fb4-bd91-2a476e4e8133');\n",
              "var x = new MutationObserver(function (mutations, observer) {{\n",
              "        var display = window.getComputedStyle(gd).display;\n",
              "        if (!display || display === 'none') {{\n",
              "            console.log([gd, 'removed!']);\n",
              "            Plotly.purge(gd);\n",
              "            observer.disconnect();\n",
              "        }}\n",
              "}});\n",
              "\n",
              "// Listen for the removal of the full notebook cells\n",
              "var notebookContainer = gd.closest('#notebook-container');\n",
              "if (notebookContainer) {{\n",
              "    x.observe(notebookContainer, {childList: true});\n",
              "}}\n",
              "\n",
              "// Listen for the clearing of the current output cell\n",
              "var outputEl = gd.closest('.output');\n",
              "if (outputEl) {{\n",
              "    x.observe(outputEl, {childList: true});\n",
              "}}\n",
              "\n",
              "                        })\n",
              "                };\n",
              "                \n",
              "            </script>\n",
              "        </div>\n",
              "</body>\n",
              "</html>"
            ]
          },
          "metadata": {
            "tags": []
          }
        }
      ]
    },
    {
      "cell_type": "code",
      "metadata": {
        "id": "MD4LUz0EXrTY"
      },
      "source": [
        "#8.Check frequency of the OperatingState features classes.\n",
        "count = data.groupby(['OperatingState']).count() \n",
        "print(count) "
      ],
      "execution_count": null,
      "outputs": []
    },
    {
      "cell_type": "code",
      "metadata": {
        "id": "Fm4RWVJLXrTY"
      },
      "source": [
        "#9.Plot a distribution plot for Funds in million.\n",
        "plot_data = data['Funding_in_million']\n",
        "sns.distplot(plot_data);"
      ],
      "execution_count": null,
      "outputs": []
    },
    {
      "cell_type": "code",
      "metadata": {
        "id": "aGZaREcnXrTZ"
      },
      "source": [
        "#10.Plot distribution plots for companies still operating and companies that closed.\n",
        "data['OperatingState'] = data['OperatingState'].str.replace('Operating','1')\n",
        "\n",
        "\n"
      ],
      "execution_count": 91,
      "outputs": []
    },
    {
      "cell_type": "code",
      "metadata": {
        "id": "QjMAIuVEwZ-d"
      },
      "source": [
        "data['OperatingState'] = data['OperatingState'].str.replace('Closed','0')"
      ],
      "execution_count": 86,
      "outputs": []
    },
    {
      "cell_type": "code",
      "metadata": {
        "id": "benFQulFw4Hc"
      },
      "source": [
        "data['OperatingState'] = data['OperatingState'].str.replace('Acquired','2')"
      ],
      "execution_count": 87,
      "outputs": []
    },
    {
      "cell_type": "code",
      "metadata": {
        "id": "dPaTiIwExGd9"
      },
      "source": [
        "data['OperatingState'] = data['OperatingState'].str.replace('Ipo','2')"
      ],
      "execution_count": 88,
      "outputs": []
    },
    {
      "cell_type": "code",
      "metadata": {
        "id": "QMvdu1Z9wd67"
      },
      "source": [
        "data['OperatingState'] = data['OperatingState'].astype('float')"
      ],
      "execution_count": 94,
      "outputs": []
    },
    {
      "cell_type": "code",
      "metadata": {
        "colab": {
          "base_uri": "https://localhost:8080/",
          "height": 442
        },
        "id": "ztHcdQIFxXsg",
        "outputId": "cfd0927c-a683-4ac5-f156-6b4284534f80"
      },
      "source": [
        "sns.distplot(data['OperatingState'], kde=False, rug=True);"
      ],
      "execution_count": 92,
      "outputs": [
        {
          "output_type": "stream",
          "text": [
            "/usr/local/lib/python3.6/dist-packages/seaborn/distributions.py:2557: FutureWarning:\n",
            "\n",
            "`distplot` is a deprecated function and will be removed in a future version. Please adapt your code to use either `displot` (a figure-level function with similar flexibility) or `histplot` (an axes-level function for histograms).\n",
            "\n",
            "/usr/local/lib/python3.6/dist-packages/seaborn/distributions.py:2056: FutureWarning:\n",
            "\n",
            "The `axis` variable is no longer used and will be removed. Instead, assign variables directly to `x` or `y`.\n",
            "\n"
          ],
          "name": "stderr"
        },
        {
          "output_type": "display_data",
          "data": {
            "image/png": "[encoded data removed]",
            "text/plain": [
              "<Figure size 432x288 with 1 Axes>"
            ]
          },
          "metadata": {
            "tags": [],
            "needs_background": "light"
          }
        }
      ]
    },
    {
      "cell_type": "code",
      "metadata": {
        "colab": {
          "base_uri": "https://localhost:8080/"
        },
        "id": "8lZX74MuxQvA",
        "outputId": "c5f81ab1-a707-4233-d525-744077f24f47"
      },
      "source": [
        "data.dtypes"
      ],
      "execution_count": 85,
      "outputs": [
        {
          "output_type": "execute_result",
          "data": {
            "text/plain": [
              "Startup                object\n",
              "Product                object\n",
              "Funding               float64\n",
              "Event                  object\n",
              "Result                 object\n",
              "OperatingState         object\n",
              "Funding_in_million    float64\n",
              "dtype: object"
            ]
          },
          "metadata": {
            "tags": []
          },
          "execution_count": 85
        }
      ]
    },
    {
      "cell_type": "markdown",
      "metadata": {
        "id": "Y40IR6c17NK9"
      },
      "source": [
        "**Null and Alternative Hypothesis**"
      ]
    },
    {
      "cell_type": "code",
      "metadata": {
        "colab": {
          "base_uri": "https://localhost:8080/"
        },
        "id": "fvIUJ2kh4Cun",
        "outputId": "92145c3a-c2e0-4da2-bd9b-d3b0fb4a42fc"
      },
      "source": [
        "data['Funding_in_million'].mean()"
      ],
      "execution_count": 83,
      "outputs": [
        {
          "output_type": "execute_result",
          "data": {
            "text/plain": [
              "22.839358928571436"
            ]
          },
          "metadata": {
            "tags": []
          },
          "execution_count": 83
        }
      ]
    },
    {
      "cell_type": "code",
      "metadata": {
        "colab": {
          "base_uri": "https://localhost:8080/"
        },
        "id": "EZP5CLpo-k7k",
        "outputId": "a59ac6cb-57cf-490d-c7da-0620b6738bc2"
      },
      "source": [
        "from scipy.stats import ttest_1samp, wilcoxon\r\n",
        "from statsmodels.stats.power import ttest_power\r\n",
        "t_statistic, p_value = ttest_1samp(data['Funding_in_million'],23)\r\n",
        "print(t_statistic,p_value)"
      ],
      "execution_count": 113,
      "outputs": [
        {
          "output_type": "stream",
          "text": [
            "-0.03184979986850498 0.9746060482086376\n"
          ],
          "name": "stdout"
        }
      ]
    },
    {
      "cell_type": "code",
      "metadata": {
        "colab": {
          "base_uri": "https://localhost:8080/"
        },
        "id": "_StX9hJc_MME",
        "outputId": "b922f174-2732-4a9e-f251-0a17498d3be0"
      },
      "source": [
        "# p_value < 0.05 => alternative hypothesis:\r\n",
        "# data deviate significantly from the hypothesis that the mean\r\n",
        "# is 23 at the 5% level of significance\r\n",
        "print (\"one-sample t-test p-value=\", p_value)"
      ],
      "execution_count": 105,
      "outputs": [
        {
          "output_type": "stream",
          "text": [
            "one-sample t-test p-value= 0.9746060482086376\n"
          ],
          "name": "stdout"
        }
      ]
    },
    {
      "cell_type": "code",
      "metadata": {
        "colab": {
          "base_uri": "https://localhost:8080/"
        },
        "id": "YP7mMMnm_RQR",
        "outputId": "98a9ba39-fd99-40eb-8820-582e470bd111"
      },
      "source": [
        "# one sample wilcoxon-test\r\n",
        "z_statistic, p_value = wilcoxon(data['Funding_in_million'] - 23)\r\n",
        "print (\"one-sample wilcoxon-test p-value\", p_value)"
      ],
      "execution_count": 109,
      "outputs": [
        {
          "output_type": "stream",
          "text": [
            "one-sample wilcoxon-test p-value 5.918417774045409e-38\n"
          ],
          "name": "stdout"
        }
      ]
    },
    {
      "cell_type": "code",
      "metadata": {
        "colab": {
          "base_uri": "https://localhost:8080/"
        },
        "id": "bBkdPAT8AX4M",
        "outputId": "204b05db-9277-4d0c-a280-304c1e13d315"
      },
      "source": [
        "(np.mean(data['Funding_in_million']) - 23) / np.std(data['Funding_in_million'])"
      ],
      "execution_count": 110,
      "outputs": [
        {
          "output_type": "execute_result",
          "data": {
            "text/plain": [
              "-0.0015064438410467495"
            ]
          },
          "metadata": {
            "tags": []
          },
          "execution_count": 110
        }
      ]
    },
    {
      "cell_type": "code",
      "metadata": {
        "colab": {
          "base_uri": "https://localhost:8080/"
        },
        "id": "i9kERup1A_5M",
        "outputId": "c270c8a9-33b5-49f6-a3b1-ec61e8df2328"
      },
      "source": [
        "print(ttest_power(-0.0015, nobs=11, alpha=0.05, alternative='two-sided'))"
      ],
      "execution_count": 114,
      "outputs": [
        {
          "output_type": "stream",
          "text": [
            "0.0500023373858083\n"
          ],
          "name": "stdout"
        }
      ]
    },
    {
      "cell_type": "markdown",
      "metadata": {
        "id": "Hp48_54TCwzN"
      },
      "source": [
        "**Check distribution of the Event variable**"
      ]
    },
    {
      "cell_type": "code",
      "metadata": {
        "colab": {
          "base_uri": "https://localhost:8080/"
        },
        "id": "TGmIep6TELsZ",
        "outputId": "fea97c5f-f20a-4254-85f5-f01b96a41504"
      },
      "source": [
        "data_01 = pd.read_csv('Event.csv')\r\n",
        "print(data)"
      ],
      "execution_count": 130,
      "outputs": [
        {
          "output_type": "stream",
          "text": [
            "/usr/local/lib/python3.6/dist-packages/IPython/core/interactiveshell.py:2718: DtypeWarning:\n",
            "\n",
            "Columns (0,1,2,3,4,5,6) have mixed types.Specify dtype option on import or set low_memory=False.\n",
            "\n"
          ],
          "name": "stderr"
        },
        {
          "output_type": "stream",
          "text": [
            "          Startup          Product  ...  OperatingState Funding_in_million\n",
            "1            3DLT         3dlt.com  ...             0.0               0.63\n",
            "3      3Dprintler   3dprintler.com  ...             1.0               1.00\n",
            "5            5to1         5to1.com  ...             2.0              19.30\n",
            "6    8 Securities  8securities.com  ...             1.0              29.00\n",
            "10     AdhereTech   adheretech.com  ...             1.0               1.80\n",
            "..            ...              ...  ...             ...                ...\n",
            "657        Zivity       zivity.com  ...             1.0               8.00\n",
            "658        Zmorph     zmorph3d.com  ...             1.0               1.00\n",
            "659        Zocdoc       zocdoc.com  ...             1.0             223.00\n",
            "660          Zula      zulaapp.com  ...             1.0               3.40\n",
            "661        Zumper       zumper.com  ...             1.0              31.50\n",
            "\n",
            "[448 rows x 7 columns]\n"
          ],
          "name": "stdout"
        }
      ]
    },
    {
      "cell_type": "code",
      "metadata": {
        "id": "AQVCWePHC5OQ"
      },
      "source": [
        "data_01['Event'] = data_01['Event'].str.replace('Disrupt NYC 2013','1')"
      ],
      "execution_count": 135,
      "outputs": []
    },
    {
      "cell_type": "code",
      "metadata": {
        "id": "y9on5eLeDJBP"
      },
      "source": [
        "data_01['Event'] = data_01['Event'].str.replace('Disrupt EU 2013','2')"
      ],
      "execution_count": 136,
      "outputs": []
    },
    {
      "cell_type": "code",
      "metadata": {
        "id": "NUhbsV65GNVQ"
      },
      "source": [
        "data_01['Event'] = data_01['Event'].str.replace('Disrupt SF 2013','3')"
      ],
      "execution_count": 137,
      "outputs": []
    },
    {
      "cell_type": "code",
      "metadata": {
        "colab": {
          "base_uri": "https://localhost:8080/",
          "height": 439
        },
        "id": "__nQG5YPDV8j",
        "outputId": "5fda9e72-5016-4fb6-8656-1ff632a4f04e"
      },
      "source": [
        "sns.distplot(data_01['Event'], kde=False, rug=True);"
      ],
      "execution_count": 138,
      "outputs": [
        {
          "output_type": "stream",
          "text": [
            "/usr/local/lib/python3.6/dist-packages/seaborn/distributions.py:2557: FutureWarning:\n",
            "\n",
            "`distplot` is a deprecated function and will be removed in a future version. Please adapt your code to use either `displot` (a figure-level function with similar flexibility) or `histplot` (an axes-level function for histograms).\n",
            "\n",
            "/usr/local/lib/python3.6/dist-packages/seaborn/distributions.py:2056: FutureWarning:\n",
            "\n",
            "The `axis` variable is no longer used and will be removed. Instead, assign variables directly to `x` or `y`.\n",
            "\n"
          ],
          "name": "stderr"
        },
        {
          "output_type": "display_data",
          "data": {
            "image/png": "[encoded data removed]",
            "text/plain": [
              "<Figure size 432x288 with 1 Axes>"
            ]
          },
          "metadata": {
            "tags": [],
            "needs_background": "light"
          }
        }
      ]
    },
    {
      "cell_type": "code",
      "metadata": {
        "id": "k3Y_axt3FZoB"
      },
      "source": [
        ""
      ],
      "execution_count": null,
      "outputs": []
    }
  ]
}